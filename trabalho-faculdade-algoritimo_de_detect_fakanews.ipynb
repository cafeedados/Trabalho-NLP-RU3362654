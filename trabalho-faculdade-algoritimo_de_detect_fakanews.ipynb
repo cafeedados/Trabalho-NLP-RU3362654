{
 "cells": [
  {
   "cell_type": "code",
   "execution_count": 79,
   "metadata": {},
   "outputs": [],
   "source": [
    "import pandas as pd, numpy as np, re, nltk, math\n",
    "from nltk.corpus import stopwords\n",
    "from nltk.stem.porter import PorterStemmer\n",
    "from sklearn.feature_extraction.text import TfidfVectorizer\n",
    "from sklearn.model_selection import train_test_split\n",
    "from sklearn.linear_model import LogisticRegression\n",
    "from sklearn.metrics import accuracy_score\n",
    "import matplotlib.pyplot as plt"
   ]
  },
  {
   "cell_type": "code",
   "execution_count": null,
   "metadata": {},
   "outputs": [],
   "source": [
    "\"\"\"\n",
    "Stopwords são palavras como artigos e etc que não tem que entrar quando estamos fazendo o projeto de previsão\n",
    "ou seja essa stopwords é para retirar essas palavras da string que estaremos analizando\n",
    "\"\"\"\n",
    "nltk.download('stopwords') \n",
    "stopwords.words('portuguese')"
   ]
  },
  {
   "cell_type": "markdown",
   "metadata": {},
   "source": [
    "## Ingestão Base de treinamento e tratamento\n",
    "\n",
    "Base retirada do projeto Fake.br-corpus, [Fake.br-Corpus/preprocessed/pre-processed.csv](https://github.com/roneysco/Fake.br-Corpus/tree/master/preprocessed)"
   ]
  },
  {
   "cell_type": "code",
   "execution_count": 52,
   "metadata": {},
   "outputs": [],
   "source": [
    "'''\n",
    "Ingestão Base de treinamento e tratamento\n",
    "\n",
    "Base retirada do projeto Fake.br-corpus, [Fake.br-Corpus/preprocessed/pre-processed.csv](https://github.com/roneysco/Fake.br-Corpus/tree/master/preprocessed)\n",
    "\n",
    "'''\n",
    "df_nlp_ru_3362654 = pd.read_csv('pre-processed.csv')"
   ]
  },
  {
   "cell_type": "code",
   "execution_count": 53,
   "metadata": {},
   "outputs": [],
   "source": [
    "# Tratando a base e criando um label com informaçoes de 1 e 0, 1 para fakenews e 0 para não fakenews\n",
    "df_nlp_ru_3362654.rename(columns={'label': 'status'}, inplace=True)\n",
    "df_nlp_ru_3362654['label'] = df_nlp_ru_3362654['status'].map({'fake': 1, 'TRUE': 0}, na_action=None)\n",
    "df_nlp_ru_3362654 = df_nlp_ru_3362654[['index', 'label', 'status', 'preprocessed_news']]"
   ]
  },
  {
   "cell_type": "code",
   "execution_count": 55,
   "metadata": {},
   "outputs": [
    {
     "data": {
      "text/plain": [
       "index                0\n",
       "label                0\n",
       "status               0\n",
       "preprocessed_news    0\n",
       "dtype: int64"
      ]
     },
     "execution_count": 55,
     "metadata": {},
     "output_type": "execute_result"
    }
   ],
   "source": [
    "#Verificando se há nulos:\n",
    "\n",
    "\"\"\"\n",
    "Observamos que não há nullo, é extremamente importante realizar esse ponto para não termos ruído nos nossos dados\n",
    "\"\"\"\n",
    "df_nlp_ru_3362654.isnull().sum()"
   ]
  },
  {
   "cell_type": "code",
   "execution_count": 56,
   "metadata": {},
   "outputs": [
    {
     "data": {
      "text/html": [
       "<div>\n",
       "<style scoped>\n",
       "    .dataframe tbody tr th:only-of-type {\n",
       "        vertical-align: middle;\n",
       "    }\n",
       "\n",
       "    .dataframe tbody tr th {\n",
       "        vertical-align: top;\n",
       "    }\n",
       "\n",
       "    .dataframe thead th {\n",
       "        text-align: right;\n",
       "    }\n",
       "</style>\n",
       "<table border=\"1\" class=\"dataframe\">\n",
       "  <thead>\n",
       "    <tr style=\"text-align: right;\">\n",
       "      <th></th>\n",
       "      <th>index</th>\n",
       "      <th>label</th>\n",
       "      <th>status</th>\n",
       "      <th>preprocessed_news</th>\n",
       "    </tr>\n",
       "  </thead>\n",
       "  <tbody>\n",
       "    <tr>\n",
       "      <th>0</th>\n",
       "      <td>0</td>\n",
       "      <td>1</td>\n",
       "      <td>fake</td>\n",
       "      <td>katia abreu diz vai colocar expulsao moldura n...</td>\n",
       "    </tr>\n",
       "    <tr>\n",
       "      <th>1</th>\n",
       "      <td>1</td>\n",
       "      <td>1</td>\n",
       "      <td>fake</td>\n",
       "      <td>ray peita bolsonaro conservador fake entrevist...</td>\n",
       "    </tr>\n",
       "    <tr>\n",
       "      <th>2</th>\n",
       "      <td>2</td>\n",
       "      <td>1</td>\n",
       "      <td>fake</td>\n",
       "      <td>reinaldo azevedo desmascarado policia federal ...</td>\n",
       "    </tr>\n",
       "    <tr>\n",
       "      <th>3</th>\n",
       "      <td>3</td>\n",
       "      <td>1</td>\n",
       "      <td>fake</td>\n",
       "      <td>relatorio assustador bndes mostra dinheiro pub...</td>\n",
       "    </tr>\n",
       "    <tr>\n",
       "      <th>4</th>\n",
       "      <td>4</td>\n",
       "      <td>1</td>\n",
       "      <td>fake</td>\n",
       "      <td>radialista americano fala sobre pt vendem ilus...</td>\n",
       "    </tr>\n",
       "    <tr>\n",
       "      <th>...</th>\n",
       "      <td>...</td>\n",
       "      <td>...</td>\n",
       "      <td>...</td>\n",
       "      <td>...</td>\n",
       "    </tr>\n",
       "    <tr>\n",
       "      <th>7195</th>\n",
       "      <td>7195</td>\n",
       "      <td>0</td>\n",
       "      <td>TRUE</td>\n",
       "      <td>jornal britanico acao contra lula lava jato se...</td>\n",
       "    </tr>\n",
       "    <tr>\n",
       "      <th>7196</th>\n",
       "      <td>7196</td>\n",
       "      <td>0</td>\n",
       "      <td>TRUE</td>\n",
       "      <td>temer diz acionou pf cade investigar aumentos ...</td>\n",
       "    </tr>\n",
       "    <tr>\n",
       "      <th>7197</th>\n",
       "      <td>7197</td>\n",
       "      <td>0</td>\n",
       "      <td>TRUE</td>\n",
       "      <td>obstaculos politicos temer especialistas ouvid...</td>\n",
       "    </tr>\n",
       "    <tr>\n",
       "      <th>7198</th>\n",
       "      <td>7198</td>\n",
       "      <td>0</td>\n",
       "      <td>TRUE</td>\n",
       "      <td>setembro boa noite aqui estao principais notic...</td>\n",
       "    </tr>\n",
       "    <tr>\n",
       "      <th>7199</th>\n",
       "      <td>7199</td>\n",
       "      <td>0</td>\n",
       "      <td>TRUE</td>\n",
       "      <td>envolvo politica diz brasileiro preso venezuel...</td>\n",
       "    </tr>\n",
       "  </tbody>\n",
       "</table>\n",
       "<p>7200 rows × 4 columns</p>\n",
       "</div>"
      ],
      "text/plain": [
       "      index  label status                                  preprocessed_news\n",
       "0         0      1   fake  katia abreu diz vai colocar expulsao moldura n...\n",
       "1         1      1   fake  ray peita bolsonaro conservador fake entrevist...\n",
       "2         2      1   fake  reinaldo azevedo desmascarado policia federal ...\n",
       "3         3      1   fake  relatorio assustador bndes mostra dinheiro pub...\n",
       "4         4      1   fake  radialista americano fala sobre pt vendem ilus...\n",
       "...     ...    ...    ...                                                ...\n",
       "7195   7195      0   TRUE  jornal britanico acao contra lula lava jato se...\n",
       "7196   7196      0   TRUE  temer diz acionou pf cade investigar aumentos ...\n",
       "7197   7197      0   TRUE  obstaculos politicos temer especialistas ouvid...\n",
       "7198   7198      0   TRUE  setembro boa noite aqui estao principais notic...\n",
       "7199   7199      0   TRUE  envolvo politica diz brasileiro preso venezuel...\n",
       "\n",
       "[7200 rows x 4 columns]"
      ]
     },
     "execution_count": 56,
     "metadata": {},
     "output_type": "execute_result"
    }
   ],
   "source": [
    "df_nlp_ru_3362654"
   ]
  },
  {
   "cell_type": "code",
   "execution_count": 57,
   "metadata": {},
   "outputs": [],
   "source": [
    "\"\"\"\n",
    "Essa função tenta trazer até a palavra raiz dela exemplo atuando, ele levará ate atuar ou seja no menor nível que a palavra pode chegar\n",
    "\"\"\"\n",
    "\n",
    "# Criar função de steaming\n",
    "\n",
    "porter_stemmer = PorterStemmer()\n",
    "\n",
    "def steaming_tokenizer(dataframe):\n",
    "        # todas que começar de A a Z maisculo e minusculo para manter\n",
    "        words = re.sub(r\"[^A-Za-z]\", \" \", dataframe).lower().split()\n",
    "        #pegar que não esteja na stopwords e reduza a menor parte dela\n",
    "        words = [porter_stemmer.stem(word) for word in words if not words in stopwords.words('portuguese')] \n",
    "        words = ' '.join(words)\n",
    "        return words"
   ]
  },
  {
   "cell_type": "code",
   "execution_count": 58,
   "metadata": {},
   "outputs": [],
   "source": [
    "#Agora vamos aplicar o processamento do tokenizer para as regras da função acima esse processo demora bastante como é um \n",
    "#trabalho academico da não há necessidade de um processamento paralelo demorou 50min para processar\n",
    "df_nlp_ru_3362654['features'] = df_nlp_ru_3362654['preprocessed_news'].apply(steaming_tokenizer)"
   ]
  },
  {
   "cell_type": "code",
   "execution_count": 59,
   "metadata": {},
   "outputs": [
    {
     "name": "stdout",
     "output_type": "stream",
     "text": [
      "0       katia abreu diz vai colocar expulsao moldura n...\n",
      "1       ray peita bolsonaro conservador fake entrevist...\n",
      "2       reinaldo azevedo desmascarado policia feder fe...\n",
      "3       relatorio assustador bnde mostra dinheiro publ...\n",
      "4       radialista americano fala sobr pt vendem ilusa...\n",
      "                              ...                        \n",
      "7195    jornal britanico acao contra lula lava jato se...\n",
      "7196    temer diz acion pf cade investigar aumento pre...\n",
      "7197    obstaculo politico temer especialista ouvido a...\n",
      "7198    setembro boa noit aqui estao principai noticia...\n",
      "7199    envolvo politica diz brasileiro preso venezuel...\n",
      "Name: features, Length: 7200, dtype: object\n"
     ]
    }
   ],
   "source": [
    "#Quando printamos podemos observar que reduzimos a menor nivel da palavra e que removemos alguns pontos dentro da stowords\n",
    "print(df_nlp_ru_3362654['features'])"
   ]
  },
  {
   "cell_type": "code",
   "execution_count": 60,
   "metadata": {},
   "outputs": [],
   "source": [
    "#Separando em Features e Lavels pegando esses valores e jogando em variáveis X e Y\n",
    "X, Y = df_nlp_ru_3362654['features'].values, df_nlp_ru_3362654['label'].values"
   ]
  },
  {
   "cell_type": "code",
   "execution_count": 61,
   "metadata": {},
   "outputs": [],
   "source": [
    "#Realizando a conversão de textual para númerico\n",
    "# Pois o modelo não está preparado para receber várias palavras ele é preparado para trabalhar com números\n",
    "# Então usaremos TF-IDF que irá realizar a contagem de palavras e verificar as que ocorrem mais e as que ocorrem menos\n",
    "# Lembdando que esses números vem já normalizados\n",
    "vectorizer = TfidfVectorizer()\n",
    "vectorizer.fit(X)\n",
    "\n",
    "X = vectorizer.transform(X)"
   ]
  },
  {
   "cell_type": "code",
   "execution_count": 81,
   "metadata": {},
   "outputs": [
    {
     "name": "stderr",
     "output_type": "stream",
     "text": [
      "c:\\Users\\lourenpe\\AppData\\Local\\Programs\\Python\\Python310\\lib\\site-packages\\sklearn\\utils\\deprecation.py:87: FutureWarning: Function get_feature_names is deprecated; get_feature_names is deprecated in 1.0 and will be removed in 1.2. Please use get_feature_names_out instead.\n",
      "  warnings.warn(msg, category=FutureWarning)\n"
     ]
    }
   ],
   "source": [
    "names = vectorizer.get_feature_names()"
   ]
  },
  {
   "cell_type": "code",
   "execution_count": 62,
   "metadata": {},
   "outputs": [],
   "source": [
    "# Treinando com 80% do dataset quando seto test_size(0.2), stratify para balancear as classes de teste\n",
    "\n",
    "X_train, X_test, Y_train, Y_test = train_test_split(X, Y, test_size= 0.2, stratify=Y, random_state=42) "
   ]
  },
  {
   "cell_type": "code",
   "execution_count": 84,
   "metadata": {},
   "outputs": [
    {
     "name": "stdout",
     "output_type": "stream",
     "text": [
      "(5760, 67043) (5760,)\n",
      "(1440, 67043) (1440,)\n"
     ]
    }
   ],
   "source": [
    "print(X_train.shape, Y_train.shape)\n",
    "print(X_test.shape, Y_test.shape)"
   ]
  },
  {
   "cell_type": "code",
   "execution_count": 83,
   "metadata": {},
   "outputs": [
    {
     "name": "stdout",
     "output_type": "stream",
     "text": [
      "  (0, 65888)\t0.07315316097990515\n",
      "  (0, 65834)\t0.06019306416347457\n",
      "  (0, 65795)\t0.019643256610796335\n",
      "  (0, 65754)\t0.07468135723116504\n",
      "  (0, 65750)\t0.021385820661590917\n",
      "  (0, 65421)\t0.03187658878864742\n",
      "  (0, 65268)\t0.050834493262129264\n",
      "  (0, 65222)\t0.0432544948246975\n",
      "  (0, 65082)\t0.03850056655063685\n",
      "  (0, 64265)\t0.03414130630637563\n",
      "  (0, 64217)\t0.02898214930151291\n",
      "  (0, 64083)\t0.01924063077432259\n",
      "  (0, 64064)\t0.04178670156479355\n",
      "  (0, 63753)\t0.10693178728728939\n",
      "  (0, 63334)\t0.030580716725002257\n",
      "  (0, 63316)\t0.07380925620157146\n",
      "  (0, 63185)\t0.18383007499278334\n",
      "  (0, 62750)\t0.032586750341521864\n",
      "  (0, 62440)\t0.02543814580067296\n",
      "  (0, 62318)\t0.023130811867105635\n",
      "  (0, 62313)\t0.014318835187829558\n",
      "  (0, 62163)\t0.03545070891170356\n",
      "  (0, 61810)\t0.021922121024726696\n",
      "  (0, 61572)\t0.04582445595554847\n",
      "  (0, 61429)\t0.02497489199721214\n",
      "  :\t:\n",
      "  (5759, 28230)\t0.1321391299885641\n",
      "  (5759, 27398)\t0.05830227314941009\n",
      "  (5759, 27322)\t0.07070306179427983\n",
      "  (5759, 24302)\t0.049819797289676775\n",
      "  (5759, 21195)\t0.08332267030636123\n",
      "  (5759, 20880)\t0.6079592265775792\n",
      "  (5759, 18517)\t0.11032878568188463\n",
      "  (5759, 18336)\t0.051238315691465655\n",
      "  (5759, 16831)\t0.1344005392763498\n",
      "  (5759, 15588)\t0.07950481017242388\n",
      "  (5759, 14642)\t0.06914530203218741\n",
      "  (5759, 14037)\t0.07704353600217828\n",
      "  (5759, 13470)\t0.1478299753241708\n",
      "  (5759, 13265)\t0.13014442563072143\n",
      "  (5759, 13077)\t0.0462022011446426\n",
      "  (5759, 9802)\t0.12940410969344918\n",
      "  (5759, 9107)\t0.034437005756698696\n",
      "  (5759, 8072)\t0.11749004110694496\n",
      "  (5759, 6183)\t0.14702348898345563\n",
      "  (5759, 3715)\t0.027881608184398825\n",
      "  (5759, 3649)\t0.1076349593783888\n",
      "  (5759, 3229)\t0.1593659032877885\n",
      "  (5759, 2173)\t0.029594763231617395\n",
      "  (5759, 1698)\t0.07363563831262843\n",
      "  (5759, 338)\t0.2686052362839572\n"
     ]
    }
   ],
   "source": [
    "print(X_train)"
   ]
  },
  {
   "cell_type": "code",
   "execution_count": 66,
   "metadata": {},
   "outputs": [],
   "source": [
    "#Treinando o modelo com logistic\n",
    "# O Logistic regression é um modelo de classificação binária, ou seja como nossa base é binária ou é 0 ou é 1, o logistic regression é o mais \n",
    "#viável de utilizarmos\n",
    "lr = LogisticRegression()\n",
    "lr.fit(X_train, Y_train)\n",
    "hist = lr.fit(X_train, Y_train)"
   ]
  },
  {
   "cell_type": "code",
   "execution_count": 67,
   "metadata": {},
   "outputs": [],
   "source": [
    "# Previsão \n",
    "pred = lr.predict(X_test)"
   ]
  },
  {
   "cell_type": "code",
   "execution_count": 68,
   "metadata": {},
   "outputs": [
    {
     "data": {
      "text/plain": [
       "'Acurácia: 94.79'"
      ]
     },
     "execution_count": 68,
     "metadata": {},
     "output_type": "execute_result"
    }
   ],
   "source": [
    "#Verificando a acuracia dos testes, Ou seja sempre que quisermos testar podemos pegar pedaços de teste diferentes para visualizar se está acertando ou não\n",
    "acc = accuracy_score(Y_test, pred)\n",
    "f'Acurácia: {acc * 100:.2f}'"
   ]
  },
  {
   "cell_type": "code",
   "execution_count": 71,
   "metadata": {},
   "outputs": [
    {
     "ename": "AttributeError",
     "evalue": "'LogisticRegression' object has no attribute 'history'",
     "output_type": "error",
     "traceback": [
      "\u001b[1;31m---------------------------------------------------------------------------\u001b[0m",
      "\u001b[1;31mAttributeError\u001b[0m                            Traceback (most recent call last)",
      "\u001b[1;32mc:\\Users\\lourenpe\\OneDrive - Banco BTG Pactual S.A\\Documents\\BTG\\pessoal\\Estudos\\Ciência de dados\\NLP\\aula_pratica\\algoritimo_de_detect_fakanews.ipynb Cell 17\u001b[0m in \u001b[0;36m<cell line: 2>\u001b[1;34m()\u001b[0m\n\u001b[0;32m      <a href='vscode-notebook-cell:/c%3A/Users/lourenpe/OneDrive%20-%20Banco%20BTG%20Pactual%20S.A/Documents/BTG/pessoal/Estudos/Ci%C3%AAncia%20de%20dados/NLP/aula_pratica/algoritimo_de_detect_fakanews.ipynb#X36sZmlsZQ%3D%3D?line=0'>1</a>\u001b[0m plt\u001b[39m.\u001b[39mfigure()\n\u001b[1;32m----> <a href='vscode-notebook-cell:/c%3A/Users/lourenpe/OneDrive%20-%20Banco%20BTG%20Pactual%20S.A/Documents/BTG/pessoal/Estudos/Ci%C3%AAncia%20de%20dados/NLP/aula_pratica/algoritimo_de_detect_fakanews.ipynb#X36sZmlsZQ%3D%3D?line=1'>2</a>\u001b[0m plt\u001b[39m.\u001b[39mplot(hist\u001b[39m.\u001b[39;49mhistory[\u001b[39m'\u001b[39m\u001b[39maccuracy\u001b[39m\u001b[39m'\u001b[39m], lw\u001b[39m=\u001b[39m\u001b[39m2.0\u001b[39m, color\u001b[39m=\u001b[39m\u001b[39m'\u001b[39m\u001b[39mb\u001b[39m\u001b[39m'\u001b[39m, label\u001b[39m=\u001b[39m\u001b[39m'\u001b[39m\u001b[39mtrain\u001b[39m\u001b[39m'\u001b[39m)\n\u001b[0;32m      <a href='vscode-notebook-cell:/c%3A/Users/lourenpe/OneDrive%20-%20Banco%20BTG%20Pactual%20S.A/Documents/BTG/pessoal/Estudos/Ci%C3%AAncia%20de%20dados/NLP/aula_pratica/algoritimo_de_detect_fakanews.ipynb#X36sZmlsZQ%3D%3D?line=2'>3</a>\u001b[0m plt\u001b[39m.\u001b[39mplot(hist\u001b[39m.\u001b[39mhistory[\u001b[39m'\u001b[39m\u001b[39mval_accuracy\u001b[39m\u001b[39m'\u001b[39m], lw\u001b[39m=\u001b[39m\u001b[39m2.0\u001b[39m, color\u001b[39m=\u001b[39m\u001b[39m'\u001b[39m\u001b[39mr\u001b[39m\u001b[39m'\u001b[39m, label\u001b[39m=\u001b[39m\u001b[39m'\u001b[39m\u001b[39mval\u001b[39m\u001b[39m'\u001b[39m)\n",
      "\u001b[1;31mAttributeError\u001b[0m: 'LogisticRegression' object has no attribute 'history'"
     ]
    },
    {
     "data": {
      "text/plain": [
       "<Figure size 432x288 with 0 Axes>"
      ]
     },
     "metadata": {},
     "output_type": "display_data"
    }
   ],
   "source": [
    "plt.figure()\n",
    "plt.plot(hist.history['accuracy'], lw=2.0, color='b', label='train')\n",
    "plt.plot(hist.history['val_accuracy'], lw=2.0, color='r', label='val')"
   ]
  }
 ],
 "metadata": {
  "kernelspec": {
   "display_name": "Python 3.10.5 64-bit",
   "language": "python",
   "name": "python3"
  },
  "language_info": {
   "codemirror_mode": {
    "name": "ipython",
    "version": 3
   },
   "file_extension": ".py",
   "mimetype": "text/x-python",
   "name": "python",
   "nbconvert_exporter": "python",
   "pygments_lexer": "ipython3",
   "version": "3.10.5"
  },
  "orig_nbformat": 4,
  "vscode": {
   "interpreter": {
    "hash": "b6fbd67db9807c02550a3a35a90aeba0ff6f1b07721be95100f2a339d1804508"
   }
  }
 },
 "nbformat": 4,
 "nbformat_minor": 2
}
